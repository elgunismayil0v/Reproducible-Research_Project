{
 "cells": [
  {
   "cell_type": "markdown",
   "id": "bc8675d7",
   "metadata": {},
   "source": [
    "K-Nearest Neighbours Analysis"
   ]
  },
  {
   "cell_type": "markdown",
   "id": "0a662734",
   "metadata": {},
   "source": [
    "Introduction\n",
    "\n",
    "This notebook contains a reproduction of the KNN Credit score Algorithim analysis by Willian Trindade Leite and Gui Gui. \n"
   ]
  },
  {
   "cell_type": "markdown",
   "id": "b8e5cb97",
   "metadata": {},
   "source": [
    "Steps taken:\n",
    "    Prepapre Data \n",
    "    Split data into train and test sets using original metrics\n",
    "    Evaluate model results\n",
    "    Repeat steps above using a different split of data\n",
    "    Compare results between the orginal and our data set"
   ]
  },
  {
   "cell_type": "code",
   "execution_count": 16,
   "id": "42532b51",
   "metadata": {},
   "outputs": [],
   "source": [
    "# Import necessary libraries\n",
    "import matplotlib.pyplot as plt\n",
    "import pandas as pd\n",
    "import numpy as np\n",
    "from sklearn.model_selection import cross_val_score\n",
    "from sklearn.model_selection import train_test_split\n",
    "from sklearn.preprocessing import StandardScaler\n",
    "from sklearn.neighbors import KNeighborsClassifier\n",
    "from sklearn.metrics import accuracy_score\n",
    "import seaborn as sns"
   ]
  },
  {
   "cell_type": "code",
   "execution_count": 17,
   "id": "40e0c0f3",
   "metadata": {},
   "outputs": [],
   "source": [
    "# Read data from .csv file\n",
    "data=pd.read_csv(\"/Users/elgun/Desktop/Reproducible-Research_Project/data/Credit.csv\")\n",
    "credit=data.copy()"
   ]
  },
  {
   "cell_type": "code",
   "execution_count": 18,
   "id": "34975afe",
   "metadata": {},
   "outputs": [],
   "source": [
    "# Define the feature columns and the target column\n",
    "features = ['duration', 'amount', 'installment', 'residence', 'age', 'cards', 'liable']\n",
    "target = 'Default'"
   ]
  },
  {
   "cell_type": "code",
   "execution_count": 19,
   "id": "7ebd18bf",
   "metadata": {},
   "outputs": [],
   "source": [
    "# Extract the feature matrix and target vector\n",
    "X = data[features]\n",
    "y = data[target]"
   ]
  },
  {
   "cell_type": "code",
   "execution_count": 20,
   "id": "fb0f370e",
   "metadata": {},
   "outputs": [],
   "source": [
    "# Standardize the numerical variables\n",
    "scaler = StandardScaler()\n",
    "X_scaled = scaler.fit_transform(X)"
   ]
  },
  {
   "cell_type": "code",
   "execution_count": 21,
   "id": "efda15ad",
   "metadata": {},
   "outputs": [],
   "source": [
    "# Split the data into training and testing sets with a 75% training split\n",
    "X_train, X_test, y_train, y_test = train_test_split(X_scaled, y, train_size=0.75, random_state=42)\n"
   ]
  },
  {
   "cell_type": "code",
   "execution_count": 22,
   "id": "3656d840",
   "metadata": {},
   "outputs": [
    {
     "name": "stdout",
     "output_type": "stream",
     "text": [
      "X_train shape: (750, 7)\n",
      "y_train shape: (750,)\n",
      "X_test shape: (250, 7)\n",
      "y_test shape: (250,)\n"
     ]
    }
   ],
   "source": [
    "# Display the shapes of the resulting datasets\n",
    "print(f'X_train shape: {X_train.shape}')\n",
    "print(f'y_train shape: {y_train.shape}')\n",
    "print(f'X_test shape: {X_test.shape}')\n",
    "print(f'y_test shape: {y_test.shape}')"
   ]
  },
  {
   "cell_type": "code",
   "execution_count": 23,
   "id": "65e4492e",
   "metadata": {},
   "outputs": [],
   "source": [
    "# K-Nearest Neighbors (KNN) Analysis\n",
    "k_values = [1, 3, 5, 7, 9, 11, 13, 15, 17]"
   ]
  },
  {
   "cell_type": "code",
   "execution_count": 24,
   "id": "983296bd",
   "metadata": {},
   "outputs": [],
   "source": [
    "# Initialize a dictionary to store the models and results\n",
    "knn_models = {}\n",
    "pcp_values = {}"
   ]
  },
  {
   "cell_type": "code",
   "execution_count": 25,
   "id": "6e8c8be8",
   "metadata": {},
   "outputs": [],
   "source": [
    "# Evaluate KNN for different values of k\n",
    "for k in k_values:\n",
    "    knn = KNeighborsClassifier(n_neighbors=k)\n",
    "    knn.fit(X_train, y_train)  # Train the model\n",
    "    knn_models[k] = knn  # Store the trained model\n",
    "    y_pred = knn.predict(X_test)  # Predict on the test set\n",
    "    pcp_values[k] = accuracy_score(y_test, y_pred)  # Compute accuracy"
   ]
  },
  {
   "cell_type": "code",
   "execution_count": 26,
   "id": "fc274929",
   "metadata": {},
   "outputs": [
    {
     "name": "stdout",
     "output_type": "stream",
     "text": [
      "Proportion of Correct Classifications (PCP):\n",
      "K=1: 0.70800\n",
      "K=3: 0.67200\n",
      "K=5: 0.66400\n",
      "K=7: 0.66400\n",
      "K=9: 0.68400\n",
      "K=11: 0.69600\n",
      "K=13: 0.68800\n",
      "K=15: 0.69200\n",
      "K=17: 0.70400\n"
     ]
    }
   ],
   "source": [
    "# Printing proportion of correct classifications for each k\n",
    "print(\"Proportion of Correct Classifications (PCP):\")\n",
    "for k, pcp in pcp_values.items():\n",
    "    print(f\"K={k}: {pcp:.5f}\")"
   ]
  },
  {
   "cell_type": "code",
   "execution_count": 27,
   "id": "f7106fbd",
   "metadata": {},
   "outputs": [],
   "source": [
    "# Cross-validation results\n",
    "cv_results = {}"
   ]
  },
  {
   "cell_type": "code",
   "execution_count": 28,
   "id": "257cb15f",
   "metadata": {},
   "outputs": [],
   "source": [
    "for k in k_values:\n",
    "    knn = KNeighborsClassifier(n_neighbors=k)\n",
    "    cv_scores = cross_val_score(knn, X_scaled, y, cv=10)  # 10-fold cross-validation\n",
    "    cv_results[k] = cv_scores.mean()"
   ]
  },
  {
   "cell_type": "code",
   "execution_count": 29,
   "id": "188d33f2",
   "metadata": {},
   "outputs": [
    {
     "name": "stdout",
     "output_type": "stream",
     "text": [
      "Cross-Validation Accuracy (Mean):\n",
      "K=1: 0.62700\n",
      "K=3: 0.66500\n",
      "K=5: 0.65600\n",
      "K=7: 0.66400\n",
      "K=9: 0.67500\n",
      "K=11: 0.68100\n",
      "K=13: 0.68300\n",
      "K=15: 0.69600\n",
      "K=17: 0.69500\n"
     ]
    }
   ],
   "source": [
    "# Print cross-validation results\n",
    "print(\"Cross-Validation Accuracy (Mean):\")\n",
    "for k, cv_score in cv_results.items():\n",
    "    print(f\"K={k}: {cv_score:.5f}\")"
   ]
  },
  {
   "cell_type": "markdown",
   "id": "54206420",
   "metadata": {},
   "source": [
    "The results are similar but not identical to the original model"
   ]
  }
 ],
 "metadata": {
  "kernelspec": {
   "display_name": "Python 3 (ipykernel)",
   "language": "python",
   "name": "python3"
  },
  "language_info": {
   "codemirror_mode": {
    "name": "ipython",
    "version": 3
   },
   "file_extension": ".py",
   "mimetype": "text/x-python",
   "name": "python",
   "nbconvert_exporter": "python",
   "pygments_lexer": "ipython3",
   "version": "3.12.0"
  }
 },
 "nbformat": 4,
 "nbformat_minor": 5
}
