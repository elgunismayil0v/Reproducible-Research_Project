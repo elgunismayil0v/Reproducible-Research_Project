{
 "cells": [
  {
   "cell_type": "markdown",
   "metadata": {},
   "source": [
    "__Introduction__                                                   \n",
    "We are going to reproduce the [Credit Scoring Algorithm](https://www.kaggle.com/code/willianleite/credit-scoring-algorithm) by Willian Trindade Leite and Gui Gui.  As an outline, our project is split into 2 parts: \n",
    "1. Logistics Regression\n",
    "2. K-Nearest Neighbor"
   ]
  },
  {
   "cell_type": "markdown",
   "metadata": {},
   "source": [
    "**Logistics Regression**\n",
    "\n",
    "In this notebook, we focus on reproducing the results of the Credit Scoring Algorithm  with Logistic Regression. We will use the same model evaluation metrics as in the original research and compare the results.\n",
    "In this reproduction, we will focus on the comparison of the model with **non-standardized and standardized** data.\n",
    "The procedure is as follows:\n",
    "1. Prepare the date for modelling purpose\n",
    "2. Split the data into train and test sets\n",
    "3. Fit the models on the train set **non-standardized and standardized** data\n",
    "4. Calculate evaluation metrics **non-standardized and standardized** data"
   ]
  },
  {
   "cell_type": "code",
   "execution_count": 18,
   "metadata": {},
   "outputs": [
    {
     "data": {
      "text/html": [
       "<div>\n",
       "<style scoped>\n",
       "    .dataframe tbody tr th:only-of-type {\n",
       "        vertical-align: middle;\n",
       "    }\n",
       "\n",
       "    .dataframe tbody tr th {\n",
       "        vertical-align: top;\n",
       "    }\n",
       "\n",
       "    .dataframe thead th {\n",
       "        text-align: right;\n",
       "    }\n",
       "</style>\n",
       "<table border=\"1\" class=\"dataframe\">\n",
       "  <thead>\n",
       "    <tr style=\"text-align: right;\">\n",
       "      <th></th>\n",
       "      <th>Default</th>\n",
       "      <th>duration</th>\n",
       "      <th>amount</th>\n",
       "      <th>installment</th>\n",
       "      <th>residence</th>\n",
       "      <th>age</th>\n",
       "      <th>cards</th>\n",
       "      <th>liable</th>\n",
       "    </tr>\n",
       "  </thead>\n",
       "  <tbody>\n",
       "    <tr>\n",
       "      <th>0</th>\n",
       "      <td>0</td>\n",
       "      <td>6</td>\n",
       "      <td>1169</td>\n",
       "      <td>4</td>\n",
       "      <td>4</td>\n",
       "      <td>67</td>\n",
       "      <td>2</td>\n",
       "      <td>1</td>\n",
       "    </tr>\n",
       "    <tr>\n",
       "      <th>1</th>\n",
       "      <td>1</td>\n",
       "      <td>48</td>\n",
       "      <td>5951</td>\n",
       "      <td>2</td>\n",
       "      <td>2</td>\n",
       "      <td>22</td>\n",
       "      <td>1</td>\n",
       "      <td>1</td>\n",
       "    </tr>\n",
       "    <tr>\n",
       "      <th>2</th>\n",
       "      <td>0</td>\n",
       "      <td>12</td>\n",
       "      <td>2096</td>\n",
       "      <td>2</td>\n",
       "      <td>3</td>\n",
       "      <td>49</td>\n",
       "      <td>1</td>\n",
       "      <td>2</td>\n",
       "    </tr>\n",
       "    <tr>\n",
       "      <th>3</th>\n",
       "      <td>0</td>\n",
       "      <td>42</td>\n",
       "      <td>7882</td>\n",
       "      <td>2</td>\n",
       "      <td>4</td>\n",
       "      <td>45</td>\n",
       "      <td>1</td>\n",
       "      <td>2</td>\n",
       "    </tr>\n",
       "    <tr>\n",
       "      <th>4</th>\n",
       "      <td>1</td>\n",
       "      <td>24</td>\n",
       "      <td>4870</td>\n",
       "      <td>3</td>\n",
       "      <td>4</td>\n",
       "      <td>53</td>\n",
       "      <td>2</td>\n",
       "      <td>2</td>\n",
       "    </tr>\n",
       "  </tbody>\n",
       "</table>\n",
       "</div>"
      ],
      "text/plain": [
       "   Default  duration  amount  installment  residence  age  cards  liable\n",
       "0        0         6    1169            4          4   67      2       1\n",
       "1        1        48    5951            2          2   22      1       1\n",
       "2        0        12    2096            2          3   49      1       2\n",
       "3        0        42    7882            2          4   45      1       2\n",
       "4        1        24    4870            3          4   53      2       2"
      ]
     },
     "execution_count": 18,
     "metadata": {},
     "output_type": "execute_result"
    }
   ],
   "source": [
    "# Import the libraries for modelling purpose\n",
    "import pandas as pd\n",
    "from sklearn.model_selection import train_test_split\n",
    "import numpy as np\n",
    "from sklearn.preprocessing import StandardScaler\n",
    "import statsmodels.api as sm\n",
    "from sklearn.metrics import roc_curve\n",
    "import matplotlib.pyplot as plt\n",
    "from sklearn.metrics import confusion_matrix\n",
    "from sklearn.metrics import roc_curve, auc\n",
    "# Read data from .csv file\n",
    "data=pd.read_csv(\"/Users/elgun/Desktop/Reproducible-Research_Project/data/Credit.csv\")\n",
    "credit=data.copy()\n",
    "# Drop the non-numerical columns\n",
    "credit=credit.drop(columns=[\"checkingstatus1\",\"history\",\"purpose\",\"savings\",\"employ\",\"sex\",\"housing\",\"tele\",\"foreign\",\"Unnamed: 0\"],axis=1)\n",
    "# Inspect the dataframe\n",
    "credit.head()"
   ]
  },
  {
   "cell_type": "markdown",
   "metadata": {},
   "source": [
    "**Split the data into train and test sets**\n",
    "\n",
    "75% of the data was used for training in the original research. In this project,  70% of the data was used for training."
   ]
  },
  {
   "cell_type": "code",
   "execution_count": 19,
   "metadata": {},
   "outputs": [],
   "source": [
    "# Splitting data into features (X) and target (y)\n",
    "X = credit.drop(columns=['Default'])\n",
    "y = credit['Default']\n",
    "X_train, X_test, y_train, y_test = train_test_split(X, y, train_size=0.70, random_state=42)"
   ]
  },
  {
   "cell_type": "markdown",
   "metadata": {},
   "source": [
    "**Fit the models on the train set non-standardized data**\n",
    "\n",
    "In this project, we use stats models for modeling purposes instead of sklearn because of more clearer summary."
   ]
  },
  {
   "cell_type": "code",
   "execution_count": 20,
   "metadata": {},
   "outputs": [
    {
     "name": "stdout",
     "output_type": "stream",
     "text": [
      "Optimization terminated successfully.\n",
      "         Current function value: 0.574276\n",
      "         Iterations 5\n"
     ]
    },
    {
     "data": {
      "text/html": [
       "<table class=\"simpletable\">\n",
       "<caption>Logit Regression Results</caption>\n",
       "<tr>\n",
       "  <th>Dep. Variable:</th>        <td>Default</td>     <th>  No. Observations:  </th>  <td>   700</td>  \n",
       "</tr>\n",
       "<tr>\n",
       "  <th>Model:</th>                 <td>Logit</td>      <th>  Df Residuals:      </th>  <td>   692</td>  \n",
       "</tr>\n",
       "<tr>\n",
       "  <th>Method:</th>                 <td>MLE</td>       <th>  Df Model:          </th>  <td>     7</td>  \n",
       "</tr>\n",
       "<tr>\n",
       "  <th>Date:</th>            <td>Sun, 12 May 2024</td> <th>  Pseudo R-squ.:     </th>  <td>0.05802</td> \n",
       "</tr>\n",
       "<tr>\n",
       "  <th>Time:</th>                <td>00:15:01</td>     <th>  Log-Likelihood:    </th> <td> -401.99</td> \n",
       "</tr>\n",
       "<tr>\n",
       "  <th>converged:</th>             <td>True</td>       <th>  LL-Null:           </th> <td> -426.75</td> \n",
       "</tr>\n",
       "<tr>\n",
       "  <th>Covariance Type:</th>     <td>nonrobust</td>    <th>  LLR p-value:       </th> <td>1.793e-08</td>\n",
       "</tr>\n",
       "</table>\n",
       "<table class=\"simpletable\">\n",
       "<tr>\n",
       "       <td></td>          <th>coef</th>     <th>std err</th>      <th>z</th>      <th>P>|z|</th>  <th>[0.025</th>    <th>0.975]</th>  \n",
       "</tr>\n",
       "<tr>\n",
       "  <th>const</th>       <td>   -1.2346</td> <td>    0.520</td> <td>   -2.375</td> <td> 0.018</td> <td>   -2.253</td> <td>   -0.216</td>\n",
       "</tr>\n",
       "<tr>\n",
       "  <th>duration</th>    <td>    0.0210</td> <td>    0.009</td> <td>    2.253</td> <td> 0.024</td> <td>    0.003</td> <td>    0.039</td>\n",
       "</tr>\n",
       "<tr>\n",
       "  <th>amount</th>      <td> 8.857e-05</td> <td> 3.88e-05</td> <td>    2.284</td> <td> 0.022</td> <td> 1.26e-05</td> <td>    0.000</td>\n",
       "</tr>\n",
       "<tr>\n",
       "  <th>installment</th> <td>    0.1899</td> <td>    0.086</td> <td>    2.205</td> <td> 0.027</td> <td>    0.021</td> <td>    0.359</td>\n",
       "</tr>\n",
       "<tr>\n",
       "  <th>residence</th>   <td>    0.0788</td> <td>    0.081</td> <td>    0.971</td> <td> 0.331</td> <td>   -0.080</td> <td>    0.238</td>\n",
       "</tr>\n",
       "<tr>\n",
       "  <th>age</th>         <td>   -0.0349</td> <td>    0.009</td> <td>   -3.858</td> <td> 0.000</td> <td>   -0.053</td> <td>   -0.017</td>\n",
       "</tr>\n",
       "<tr>\n",
       "  <th>cards</th>       <td>   -0.1601</td> <td>    0.157</td> <td>   -1.021</td> <td> 0.307</td> <td>   -0.468</td> <td>    0.147</td>\n",
       "</tr>\n",
       "<tr>\n",
       "  <th>liable</th>      <td>    0.2106</td> <td>    0.254</td> <td>    0.829</td> <td> 0.407</td> <td>   -0.287</td> <td>    0.708</td>\n",
       "</tr>\n",
       "</table>"
      ],
      "text/latex": [
       "\\begin{center}\n",
       "\\begin{tabular}{lclc}\n",
       "\\toprule\n",
       "\\textbf{Dep. Variable:}   &     Default      & \\textbf{  No. Observations:  } &      700    \\\\\n",
       "\\textbf{Model:}           &      Logit       & \\textbf{  Df Residuals:      } &      692    \\\\\n",
       "\\textbf{Method:}          &       MLE        & \\textbf{  Df Model:          } &        7    \\\\\n",
       "\\textbf{Date:}            & Sun, 12 May 2024 & \\textbf{  Pseudo R-squ.:     } &  0.05802    \\\\\n",
       "\\textbf{Time:}            &     00:15:01     & \\textbf{  Log-Likelihood:    } &   -401.99   \\\\\n",
       "\\textbf{converged:}       &       True       & \\textbf{  LL-Null:           } &   -426.75   \\\\\n",
       "\\textbf{Covariance Type:} &    nonrobust     & \\textbf{  LLR p-value:       } & 1.793e-08   \\\\\n",
       "\\bottomrule\n",
       "\\end{tabular}\n",
       "\\begin{tabular}{lcccccc}\n",
       "                     & \\textbf{coef} & \\textbf{std err} & \\textbf{z} & \\textbf{P$> |$z$|$} & \\textbf{[0.025} & \\textbf{0.975]}  \\\\\n",
       "\\midrule\n",
       "\\textbf{const}       &      -1.2346  &        0.520     &    -2.375  &         0.018        &       -2.253    &       -0.216     \\\\\n",
       "\\textbf{duration}    &       0.0210  &        0.009     &     2.253  &         0.024        &        0.003    &        0.039     \\\\\n",
       "\\textbf{amount}      &    8.857e-05  &     3.88e-05     &     2.284  &         0.022        &     1.26e-05    &        0.000     \\\\\n",
       "\\textbf{installment} &       0.1899  &        0.086     &     2.205  &         0.027        &        0.021    &        0.359     \\\\\n",
       "\\textbf{residence}   &       0.0788  &        0.081     &     0.971  &         0.331        &       -0.080    &        0.238     \\\\\n",
       "\\textbf{age}         &      -0.0349  &        0.009     &    -3.858  &         0.000        &       -0.053    &       -0.017     \\\\\n",
       "\\textbf{cards}       &      -0.1601  &        0.157     &    -1.021  &         0.307        &       -0.468    &        0.147     \\\\\n",
       "\\textbf{liable}      &       0.2106  &        0.254     &     0.829  &         0.407        &       -0.287    &        0.708     \\\\\n",
       "\\bottomrule\n",
       "\\end{tabular}\n",
       "%\\caption{Logit Regression Results}\n",
       "\\end{center}"
      ],
      "text/plain": [
       "<class 'statsmodels.iolib.summary.Summary'>\n",
       "\"\"\"\n",
       "                           Logit Regression Results                           \n",
       "==============================================================================\n",
       "Dep. Variable:                Default   No. Observations:                  700\n",
       "Model:                          Logit   Df Residuals:                      692\n",
       "Method:                           MLE   Df Model:                            7\n",
       "Date:                Sun, 12 May 2024   Pseudo R-squ.:                 0.05802\n",
       "Time:                        00:15:01   Log-Likelihood:                -401.99\n",
       "converged:                       True   LL-Null:                       -426.75\n",
       "Covariance Type:            nonrobust   LLR p-value:                 1.793e-08\n",
       "===============================================================================\n",
       "                  coef    std err          z      P>|z|      [0.025      0.975]\n",
       "-------------------------------------------------------------------------------\n",
       "const          -1.2346      0.520     -2.375      0.018      -2.253      -0.216\n",
       "duration        0.0210      0.009      2.253      0.024       0.003       0.039\n",
       "amount       8.857e-05   3.88e-05      2.284      0.022    1.26e-05       0.000\n",
       "installment     0.1899      0.086      2.205      0.027       0.021       0.359\n",
       "residence       0.0788      0.081      0.971      0.331      -0.080       0.238\n",
       "age            -0.0349      0.009     -3.858      0.000      -0.053      -0.017\n",
       "cards          -0.1601      0.157     -1.021      0.307      -0.468       0.147\n",
       "liable          0.2106      0.254      0.829      0.407      -0.287       0.708\n",
       "===============================================================================\n",
       "\"\"\""
      ]
     },
     "execution_count": 20,
     "metadata": {},
     "output_type": "execute_result"
    }
   ],
   "source": [
    "# Fit logistic regression model\n",
    "lrn = sm.Logit(y_train, sm.add_constant(X_train)).fit()\n",
    "# Print summary\n",
    "lrn.summary()"
   ]
  },
  {
   "cell_type": "code",
   "execution_count": 21,
   "metadata": {},
   "outputs": [
    {
     "data": {
      "text/plain": [
       "819.987038400438"
      ]
     },
     "execution_count": 21,
     "metadata": {},
     "output_type": "execute_result"
    }
   ],
   "source": [
    "# Calculation AIC \n",
    "lrn.aic"
   ]
  },
  {
   "cell_type": "markdown",
   "metadata": {},
   "source": [
    "**Calculation top 10 predictions and their probabilities**"
   ]
  },
  {
   "cell_type": "code",
   "execution_count": 22,
   "metadata": {},
   "outputs": [
    {
     "data": {
      "text/html": [
       "<div>\n",
       "<style scoped>\n",
       "    .dataframe tbody tr th:only-of-type {\n",
       "        vertical-align: middle;\n",
       "    }\n",
       "\n",
       "    .dataframe tbody tr th {\n",
       "        vertical-align: top;\n",
       "    }\n",
       "\n",
       "    .dataframe thead th {\n",
       "        text-align: right;\n",
       "    }\n",
       "</style>\n",
       "<table border=\"1\" class=\"dataframe\">\n",
       "  <thead>\n",
       "    <tr style=\"text-align: right;\">\n",
       "      <th></th>\n",
       "      <th>pred</th>\n",
       "      <th>Default</th>\n",
       "    </tr>\n",
       "  </thead>\n",
       "  <tbody>\n",
       "    <tr>\n",
       "      <th>637</th>\n",
       "      <td>0.779487</td>\n",
       "      <td>0</td>\n",
       "    </tr>\n",
       "    <tr>\n",
       "      <th>887</th>\n",
       "      <td>0.720171</td>\n",
       "      <td>1</td>\n",
       "    </tr>\n",
       "    <tr>\n",
       "      <th>134</th>\n",
       "      <td>0.718063</td>\n",
       "      <td>0</td>\n",
       "    </tr>\n",
       "    <tr>\n",
       "      <th>744</th>\n",
       "      <td>0.680709</td>\n",
       "      <td>0</td>\n",
       "    </tr>\n",
       "    <tr>\n",
       "      <th>685</th>\n",
       "      <td>0.679378</td>\n",
       "      <td>0</td>\n",
       "    </tr>\n",
       "    <tr>\n",
       "      <th>272</th>\n",
       "      <td>0.672265</td>\n",
       "      <td>0</td>\n",
       "    </tr>\n",
       "    <tr>\n",
       "      <th>915</th>\n",
       "      <td>0.664818</td>\n",
       "      <td>1</td>\n",
       "    </tr>\n",
       "    <tr>\n",
       "      <th>812</th>\n",
       "      <td>0.622604</td>\n",
       "      <td>1</td>\n",
       "    </tr>\n",
       "    <tr>\n",
       "      <th>921</th>\n",
       "      <td>0.622120</td>\n",
       "      <td>0</td>\n",
       "    </tr>\n",
       "    <tr>\n",
       "      <th>616</th>\n",
       "      <td>0.617833</td>\n",
       "      <td>0</td>\n",
       "    </tr>\n",
       "  </tbody>\n",
       "</table>\n",
       "</div>"
      ],
      "text/plain": [
       "         pred  Default\n",
       "637  0.779487        0\n",
       "887  0.720171        1\n",
       "134  0.718063        0\n",
       "744  0.680709        0\n",
       "685  0.679378        0\n",
       "272  0.672265        0\n",
       "915  0.664818        1\n",
       "812  0.622604        1\n",
       "921  0.622120        0\n",
       "616  0.617833        0"
      ]
     },
     "execution_count": 22,
     "metadata": {},
     "output_type": "execute_result"
    }
   ],
   "source": [
    "# Predicted probabilities in the training data\n",
    "y_pred_prob = lrn.predict(sm.add_constant(X_train))\n",
    "\n",
    "# Create DataFrame with predicted probabilities and actual 'Default' values\n",
    "y_pred_df = pd.DataFrame({'pred': y_pred_prob, 'Default': y_train})\n",
    "\n",
    "# Select top 10 observations with highest predicted probabilities\n",
    "top_10_pred_y = y_pred_df.nlargest(10, 'pred')\n",
    "\n",
    "# Classify predictions based on a threshold of 0.5\n",
    "y_pred_df['pred.c'] = np.where(y_pred_df['pred'] >= 0.5, 1, 0)\n",
    "\n",
    "# Display top 10 predictions and their probabilities\n",
    "top_10_pred_y\n"
   ]
  },
  {
   "cell_type": "markdown",
   "metadata": {},
   "source": [
    "**Calculate evaluation metrics non-standardized data**\n",
    "\n",
    "Roc curve shape is almost the same as the original project's curve. Our team also added calculations of under the curve."
   ]
  },
  {
   "cell_type": "code",
   "execution_count": 23,
   "metadata": {},
   "outputs": [
    {
     "data": {
      "image/png": "[encoded data removed]",
      "text/plain": [
       "<Figure size 640x480 with 1 Axes>"
      ]
     },
     "metadata": {},
     "output_type": "display_data"
    }
   ],
   "source": [
    "# Compute ROC curve\n",
    "fpr, tpr, thresholds = roc_curve(y_train, y_pred_prob)\n",
    "roc_auc = auc(fpr, tpr)\n",
    "\n",
    "# Plot ROC curve\n",
    "plt.figure()\n",
    "plt.plot(fpr, tpr, color='red', lw=2, label='ROC curve (area = %0.2f)' % roc_auc)\n",
    "plt.plot([0, 1], [0, 1], color='navy', lw=2, linestyle='--')\n",
    "plt.xlim([0.0, 1.0])\n",
    "plt.ylim([0.0, 1.05])\n",
    "plt.xlabel('False Positive Rate')\n",
    "plt.ylabel('True Positive Rate')\n",
    "plt.title('ROC Curve - Non-Standardized Training Data')\n",
    "plt.legend(loc=\"lower right\")\n",
    "plt.show()"
   ]
  },
  {
   "cell_type": "markdown",
   "metadata": {},
   "source": [
    "**Calculation Sensivity and Specificity**\n",
    "\n",
    "Our model sensitivity is **lower** and specificity **higher** than the original project's results."
   ]
  },
  {
   "cell_type": "code",
   "execution_count": 24,
   "metadata": {},
   "outputs": [
    {
     "data": {
      "text/html": [
       "<div>\n",
       "<style scoped>\n",
       "    .dataframe tbody tr th:only-of-type {\n",
       "        vertical-align: middle;\n",
       "    }\n",
       "\n",
       "    .dataframe tbody tr th {\n",
       "        vertical-align: top;\n",
       "    }\n",
       "\n",
       "    .dataframe thead th {\n",
       "        text-align: right;\n",
       "    }\n",
       "</style>\n",
       "<table border=\"1\" class=\"dataframe\">\n",
       "  <thead>\n",
       "    <tr style=\"text-align: right;\">\n",
       "      <th></th>\n",
       "      <th>Cut-point</th>\n",
       "      <th>Sensitivity</th>\n",
       "      <th>Specificity</th>\n",
       "    </tr>\n",
       "  </thead>\n",
       "  <tbody>\n",
       "    <tr>\n",
       "      <th>0</th>\n",
       "      <td>0.25</td>\n",
       "      <td>0.659341</td>\n",
       "      <td>0.478469</td>\n",
       "    </tr>\n",
       "    <tr>\n",
       "      <th>1</th>\n",
       "      <td>0.50</td>\n",
       "      <td>0.109890</td>\n",
       "      <td>0.976077</td>\n",
       "    </tr>\n",
       "    <tr>\n",
       "      <th>2</th>\n",
       "      <td>0.60</td>\n",
       "      <td>0.065934</td>\n",
       "      <td>0.995215</td>\n",
       "    </tr>\n",
       "  </tbody>\n",
       "</table>\n",
       "</div>"
      ],
      "text/plain": [
       "   Cut-point  Sensitivity  Specificity\n",
       "0       0.25     0.659341     0.478469\n",
       "1       0.50     0.109890     0.976077\n",
       "2       0.60     0.065934     0.995215"
      ]
     },
     "execution_count": 24,
     "metadata": {},
     "output_type": "execute_result"
    }
   ],
   "source": [
    "# True labels and predicted labels are available as lists or arrays\n",
    "true_labels = y_test\n",
    "predicted_labels = lrn.predict(sm.add_constant(X_test))\n",
    "\n",
    "# Define cut-point values\n",
    "thresholds = [0.25, 0.5, 0.6]\n",
    "results=[]\n",
    "\n",
    "for threshold in thresholds:\n",
    "    # Convert predicted labels based on the current threshold\n",
    "    predicted_labels_threshold = np.where(predicted_labels >= threshold, 1, 0)\n",
    "    \n",
    "    # Calculating confusion matrix for the current threshold\n",
    "    conf_matrix = confusion_matrix(true_labels, predicted_labels_threshold)\n",
    "    \n",
    "    # Extracting values from the confusion matrix\n",
    "    TN, FP, FN, TP = conf_matrix.ravel()\n",
    "    \n",
    "    # Calculate sensitivity (true positive rate)\n",
    "    sensitivity = TP / (TP + FN)\n",
    "    \n",
    "    # Calculate specificity (true negative rate)\n",
    "    specificity = TN / (TN + FP)\n",
    "    \n",
    "    # Print the results\n",
    "    results.append({'Cut-point': threshold,\n",
    "                    'Sensitivity': sensitivity,\n",
    "                    'Specificity': specificity})\n",
    "#Show the results    \n",
    "pd.DataFrame(results)"
   ]
  },
  {
   "cell_type": "markdown",
   "metadata": {},
   "source": [
    "**Calculation of correct clasifications for the cut-points**\n",
    "\n",
    "In comparison to the original research, our results in 0.25 cut-point **increase**, but for 0.5 and 0.6 cut-point **decrease**."
   ]
  },
  {
   "cell_type": "code",
   "execution_count": 25,
   "metadata": {},
   "outputs": [
    {
     "data": {
      "text/html": [
       "<div>\n",
       "<style scoped>\n",
       "    .dataframe tbody tr th:only-of-type {\n",
       "        vertical-align: middle;\n",
       "    }\n",
       "\n",
       "    .dataframe tbody tr th {\n",
       "        vertical-align: top;\n",
       "    }\n",
       "\n",
       "    .dataframe thead th {\n",
       "        text-align: right;\n",
       "    }\n",
       "</style>\n",
       "<table border=\"1\" class=\"dataframe\">\n",
       "  <thead>\n",
       "    <tr style=\"text-align: right;\">\n",
       "      <th></th>\n",
       "      <th>Cut-point</th>\n",
       "      <th>Proportion of Correct Classifications</th>\n",
       "    </tr>\n",
       "  </thead>\n",
       "  <tbody>\n",
       "    <tr>\n",
       "      <th>0</th>\n",
       "      <td>0.25</td>\n",
       "      <td>0.533333</td>\n",
       "    </tr>\n",
       "    <tr>\n",
       "      <th>1</th>\n",
       "      <td>0.50</td>\n",
       "      <td>0.713333</td>\n",
       "    </tr>\n",
       "    <tr>\n",
       "      <th>2</th>\n",
       "      <td>0.60</td>\n",
       "      <td>0.713333</td>\n",
       "    </tr>\n",
       "  </tbody>\n",
       "</table>\n",
       "</div>"
      ],
      "text/plain": [
       "   Cut-point  Proportion of Correct Classifications\n",
       "0       0.25                               0.533333\n",
       "1       0.50                               0.713333\n",
       "2       0.60                               0.713333"
      ]
     },
     "execution_count": 25,
     "metadata": {},
     "output_type": "execute_result"
    }
   ],
   "source": [
    "# Initialize an empty list to store the results\n",
    "results2 = []\n",
    "\n",
    "# Define cut_point values\n",
    "cut_points = [0.25, 0.5, 0.6]\n",
    "\n",
    "# Loop through each threshold value\n",
    "for cut_point in cut_points:\n",
    "    # Convert predicted labels based on the current cut-point\n",
    "    predicted_labels_threshold = np.where(predicted_labels >= cut_point, 1, 0)\n",
    "    \n",
    "    # Calculate the proportion of correct classifications for the current cut_point\n",
    "    correct_classification = (predicted_labels_threshold == y_test).mean()\n",
    "    \n",
    "    # Append the results to the list\n",
    "    results2.append({'Cut-point': cut_point,\n",
    "                     'Proportion of Correct Classifications': correct_classification})\n",
    "\n",
    "# Display the results\n",
    "pd.DataFrame(results2)\n"
   ]
  },
  {
   "cell_type": "markdown",
   "metadata": {},
   "source": [
    "**Fit the models on the train set standardized data**"
   ]
  },
  {
   "cell_type": "code",
   "execution_count": 26,
   "metadata": {},
   "outputs": [
    {
     "name": "stdout",
     "output_type": "stream",
     "text": [
      "Optimization terminated successfully.\n",
      "         Current function value: 0.574276\n",
      "         Iterations 6\n"
     ]
    },
    {
     "data": {
      "text/html": [
       "<table class=\"simpletable\">\n",
       "<caption>Logit Regression Results</caption>\n",
       "<tr>\n",
       "  <th>Dep. Variable:</th>        <td>Default</td>     <th>  No. Observations:  </th>  <td>   700</td>  \n",
       "</tr>\n",
       "<tr>\n",
       "  <th>Model:</th>                 <td>Logit</td>      <th>  Df Residuals:      </th>  <td>   692</td>  \n",
       "</tr>\n",
       "<tr>\n",
       "  <th>Method:</th>                 <td>MLE</td>       <th>  Df Model:          </th>  <td>     7</td>  \n",
       "</tr>\n",
       "<tr>\n",
       "  <th>Date:</th>            <td>Sun, 12 May 2024</td> <th>  Pseudo R-squ.:     </th>  <td>0.05802</td> \n",
       "</tr>\n",
       "<tr>\n",
       "  <th>Time:</th>                <td>00:15:01</td>     <th>  Log-Likelihood:    </th> <td> -401.99</td> \n",
       "</tr>\n",
       "<tr>\n",
       "  <th>converged:</th>             <td>True</td>       <th>  LL-Null:           </th> <td> -426.75</td> \n",
       "</tr>\n",
       "<tr>\n",
       "  <th>Covariance Type:</th>     <td>nonrobust</td>    <th>  LLR p-value:       </th> <td>1.793e-08</td>\n",
       "</tr>\n",
       "</table>\n",
       "<table class=\"simpletable\">\n",
       "<tr>\n",
       "       <td></td>          <th>coef</th>     <th>std err</th>      <th>z</th>      <th>P>|z|</th>  <th>[0.025</th>    <th>0.975]</th>  \n",
       "</tr>\n",
       "<tr>\n",
       "  <th>const</th>       <td>   -0.9409</td> <td>    0.089</td> <td>  -10.606</td> <td> 0.000</td> <td>   -1.115</td> <td>   -0.767</td>\n",
       "</tr>\n",
       "<tr>\n",
       "  <th>duration</th>    <td>    0.2529</td> <td>    0.112</td> <td>    2.253</td> <td> 0.024</td> <td>    0.033</td> <td>    0.473</td>\n",
       "</tr>\n",
       "<tr>\n",
       "  <th>amount</th>      <td>    0.2499</td> <td>    0.109</td> <td>    2.284</td> <td> 0.022</td> <td>    0.035</td> <td>    0.464</td>\n",
       "</tr>\n",
       "<tr>\n",
       "  <th>installment</th> <td>    0.2124</td> <td>    0.096</td> <td>    2.205</td> <td> 0.027</td> <td>    0.024</td> <td>    0.401</td>\n",
       "</tr>\n",
       "<tr>\n",
       "  <th>residence</th>   <td>    0.0869</td> <td>    0.089</td> <td>    0.971</td> <td> 0.331</td> <td>   -0.088</td> <td>    0.262</td>\n",
       "</tr>\n",
       "<tr>\n",
       "  <th>age</th>         <td>   -0.3971</td> <td>    0.103</td> <td>   -3.858</td> <td> 0.000</td> <td>   -0.599</td> <td>   -0.195</td>\n",
       "</tr>\n",
       "<tr>\n",
       "  <th>cards</th>       <td>   -0.0925</td> <td>    0.091</td> <td>   -1.021</td> <td> 0.307</td> <td>   -0.270</td> <td>    0.085</td>\n",
       "</tr>\n",
       "<tr>\n",
       "  <th>liable</th>      <td>    0.0762</td> <td>    0.092</td> <td>    0.829</td> <td> 0.407</td> <td>   -0.104</td> <td>    0.256</td>\n",
       "</tr>\n",
       "</table>"
      ],
      "text/latex": [
       "\\begin{center}\n",
       "\\begin{tabular}{lclc}\n",
       "\\toprule\n",
       "\\textbf{Dep. Variable:}   &     Default      & \\textbf{  No. Observations:  } &      700    \\\\\n",
       "\\textbf{Model:}           &      Logit       & \\textbf{  Df Residuals:      } &      692    \\\\\n",
       "\\textbf{Method:}          &       MLE        & \\textbf{  Df Model:          } &        7    \\\\\n",
       "\\textbf{Date:}            & Sun, 12 May 2024 & \\textbf{  Pseudo R-squ.:     } &  0.05802    \\\\\n",
       "\\textbf{Time:}            &     00:15:01     & \\textbf{  Log-Likelihood:    } &   -401.99   \\\\\n",
       "\\textbf{converged:}       &       True       & \\textbf{  LL-Null:           } &   -426.75   \\\\\n",
       "\\textbf{Covariance Type:} &    nonrobust     & \\textbf{  LLR p-value:       } & 1.793e-08   \\\\\n",
       "\\bottomrule\n",
       "\\end{tabular}\n",
       "\\begin{tabular}{lcccccc}\n",
       "                     & \\textbf{coef} & \\textbf{std err} & \\textbf{z} & \\textbf{P$> |$z$|$} & \\textbf{[0.025} & \\textbf{0.975]}  \\\\\n",
       "\\midrule\n",
       "\\textbf{const}       &      -0.9409  &        0.089     &   -10.606  &         0.000        &       -1.115    &       -0.767     \\\\\n",
       "\\textbf{duration}    &       0.2529  &        0.112     &     2.253  &         0.024        &        0.033    &        0.473     \\\\\n",
       "\\textbf{amount}      &       0.2499  &        0.109     &     2.284  &         0.022        &        0.035    &        0.464     \\\\\n",
       "\\textbf{installment} &       0.2124  &        0.096     &     2.205  &         0.027        &        0.024    &        0.401     \\\\\n",
       "\\textbf{residence}   &       0.0869  &        0.089     &     0.971  &         0.331        &       -0.088    &        0.262     \\\\\n",
       "\\textbf{age}         &      -0.3971  &        0.103     &    -3.858  &         0.000        &       -0.599    &       -0.195     \\\\\n",
       "\\textbf{cards}       &      -0.0925  &        0.091     &    -1.021  &         0.307        &       -0.270    &        0.085     \\\\\n",
       "\\textbf{liable}      &       0.0762  &        0.092     &     0.829  &         0.407        &       -0.104    &        0.256     \\\\\n",
       "\\bottomrule\n",
       "\\end{tabular}\n",
       "%\\caption{Logit Regression Results}\n",
       "\\end{center}"
      ],
      "text/plain": [
       "<class 'statsmodels.iolib.summary.Summary'>\n",
       "\"\"\"\n",
       "                           Logit Regression Results                           \n",
       "==============================================================================\n",
       "Dep. Variable:                Default   No. Observations:                  700\n",
       "Model:                          Logit   Df Residuals:                      692\n",
       "Method:                           MLE   Df Model:                            7\n",
       "Date:                Sun, 12 May 2024   Pseudo R-squ.:                 0.05802\n",
       "Time:                        00:15:01   Log-Likelihood:                -401.99\n",
       "converged:                       True   LL-Null:                       -426.75\n",
       "Covariance Type:            nonrobust   LLR p-value:                 1.793e-08\n",
       "===============================================================================\n",
       "                  coef    std err          z      P>|z|      [0.025      0.975]\n",
       "-------------------------------------------------------------------------------\n",
       "const          -0.9409      0.089    -10.606      0.000      -1.115      -0.767\n",
       "duration        0.2529      0.112      2.253      0.024       0.033       0.473\n",
       "amount          0.2499      0.109      2.284      0.022       0.035       0.464\n",
       "installment     0.2124      0.096      2.205      0.027       0.024       0.401\n",
       "residence       0.0869      0.089      0.971      0.331      -0.088       0.262\n",
       "age            -0.3971      0.103     -3.858      0.000      -0.599      -0.195\n",
       "cards          -0.0925      0.091     -1.021      0.307      -0.270       0.085\n",
       "liable          0.0762      0.092      0.829      0.407      -0.104       0.256\n",
       "===============================================================================\n",
       "\"\"\""
      ]
     },
     "execution_count": 26,
     "metadata": {},
     "output_type": "execute_result"
    }
   ],
   "source": [
    "# Create scaler for standardization of data\n",
    "scaler = StandardScaler()\n",
    "# Transform the data \n",
    "X_transform=pd.DataFrame(scaler.fit_transform(X),columns=['duration','amount','installment','residence','age','cards','liable'])\n",
    "# Create the new train and test data for transform data\n",
    "X_train_transform,X_test_transform,y_train,y_test=train_test_split(X_transform,y,train_size=0.70,random_state=42)\n",
    "# Fit the logistic regression model\n",
    "lrn_s = sm.Logit(y_train, sm.add_constant(X_train_transform)).fit()\n",
    "# Print the summary of the logistic regression model\n",
    "lrn_s.summary()"
   ]
  },
  {
   "cell_type": "code",
   "execution_count": 27,
   "metadata": {},
   "outputs": [
    {
     "data": {
      "text/plain": [
       "819.987038400438"
      ]
     },
     "execution_count": 27,
     "metadata": {},
     "output_type": "execute_result"
    }
   ],
   "source": [
    "# Calculation AIC\n",
    "lrn_s.aic"
   ]
  },
  {
   "cell_type": "markdown",
   "metadata": {},
   "source": [
    "**Calculation top 10 predictions and their probabilities**"
   ]
  },
  {
   "cell_type": "code",
   "execution_count": 28,
   "metadata": {},
   "outputs": [
    {
     "data": {
      "text/html": [
       "<div>\n",
       "<style scoped>\n",
       "    .dataframe tbody tr th:only-of-type {\n",
       "        vertical-align: middle;\n",
       "    }\n",
       "\n",
       "    .dataframe tbody tr th {\n",
       "        vertical-align: top;\n",
       "    }\n",
       "\n",
       "    .dataframe thead th {\n",
       "        text-align: right;\n",
       "    }\n",
       "</style>\n",
       "<table border=\"1\" class=\"dataframe\">\n",
       "  <thead>\n",
       "    <tr style=\"text-align: right;\">\n",
       "      <th></th>\n",
       "      <th>pred</th>\n",
       "      <th>Default</th>\n",
       "    </tr>\n",
       "  </thead>\n",
       "  <tbody>\n",
       "    <tr>\n",
       "      <th>637</th>\n",
       "      <td>0.779487</td>\n",
       "      <td>0</td>\n",
       "    </tr>\n",
       "    <tr>\n",
       "      <th>887</th>\n",
       "      <td>0.720171</td>\n",
       "      <td>1</td>\n",
       "    </tr>\n",
       "    <tr>\n",
       "      <th>134</th>\n",
       "      <td>0.718063</td>\n",
       "      <td>0</td>\n",
       "    </tr>\n",
       "    <tr>\n",
       "      <th>744</th>\n",
       "      <td>0.680709</td>\n",
       "      <td>0</td>\n",
       "    </tr>\n",
       "    <tr>\n",
       "      <th>685</th>\n",
       "      <td>0.679378</td>\n",
       "      <td>0</td>\n",
       "    </tr>\n",
       "    <tr>\n",
       "      <th>272</th>\n",
       "      <td>0.672265</td>\n",
       "      <td>0</td>\n",
       "    </tr>\n",
       "    <tr>\n",
       "      <th>915</th>\n",
       "      <td>0.664818</td>\n",
       "      <td>1</td>\n",
       "    </tr>\n",
       "    <tr>\n",
       "      <th>812</th>\n",
       "      <td>0.622604</td>\n",
       "      <td>1</td>\n",
       "    </tr>\n",
       "    <tr>\n",
       "      <th>921</th>\n",
       "      <td>0.622120</td>\n",
       "      <td>0</td>\n",
       "    </tr>\n",
       "    <tr>\n",
       "      <th>616</th>\n",
       "      <td>0.617833</td>\n",
       "      <td>0</td>\n",
       "    </tr>\n",
       "  </tbody>\n",
       "</table>\n",
       "</div>"
      ],
      "text/plain": [
       "         pred  Default\n",
       "637  0.779487        0\n",
       "887  0.720171        1\n",
       "134  0.718063        0\n",
       "744  0.680709        0\n",
       "685  0.679378        0\n",
       "272  0.672265        0\n",
       "915  0.664818        1\n",
       "812  0.622604        1\n",
       "921  0.622120        0\n",
       "616  0.617833        0"
      ]
     },
     "execution_count": 28,
     "metadata": {},
     "output_type": "execute_result"
    }
   ],
   "source": [
    "# Predicted probabilities in the training data\n",
    "y_pred_prob = lrn_s.predict(sm.add_constant(X_train_transform))\n",
    "\n",
    "# Create DataFrame with predicted probabilities and actual 'Default' values\n",
    "y_pred_df = pd.DataFrame({'pred': y_pred_prob, 'Default': y})\n",
    "\n",
    "# Select top 10 observations with highest predicted probabilities\n",
    "top_10_pred_y = y_pred_df.nlargest(10, 'pred')\n",
    "\n",
    "# Classify predictions based on a threshold of 0.5\n",
    "y_pred_df['pred.c'] = np.where(y_pred_df['pred'] >= 0.5, 'Yes', 'No')\n",
    "\n",
    "# Display top 10 predictions and their probabilities\n",
    "top_10_pred_y"
   ]
  },
  {
   "cell_type": "markdown",
   "metadata": {},
   "source": [
    "**Calculate evaluation metrics non-standardized data**\n",
    "\n",
    "Roc curve shape is almost the same as the original project's curve. "
   ]
  },
  {
   "cell_type": "code",
   "execution_count": 29,
   "metadata": {},
   "outputs": [
    {
     "data": {
      "image/png": "[encoded data removed]",
      "text/plain": [
       "<Figure size 640x480 with 1 Axes>"
      ]
     },
     "metadata": {},
     "output_type": "display_data"
    }
   ],
   "source": [
    "# Compute ROC curve\n",
    "fpr, tpr, thresholds = roc_curve(y_train, y_pred_prob)\n",
    "roc_auc = auc(fpr, tpr)\n",
    "# Plot ROC curve\n",
    "plt.figure()\n",
    "plt.plot(fpr, tpr, color='red', lw=2, label='ROC curve (area = %0.2f)' % roc_auc)\n",
    "plt.plot([0, 1], [0, 1], color='navy', lw=2, linestyle='--')\n",
    "plt.xlim([0.0, 1.0])\n",
    "plt.ylim([0.0, 1.05])\n",
    "plt.xlabel('False Positive Rate')\n",
    "plt.ylabel('True Positive Rate')\n",
    "plt.title('ROC Curve - Standardized Training Data')\n",
    "plt.legend(loc=\"lower right\")\n",
    "plt.show()\n"
   ]
  },
  {
   "cell_type": "markdown",
   "metadata": {},
   "source": [
    "**Calculation Sensivity and Specificity**\n",
    "\n",
    "Our model sensitivity is **lower** and specificity **higher** than the original project's results."
   ]
  },
  {
   "cell_type": "code",
   "execution_count": 30,
   "metadata": {},
   "outputs": [
    {
     "data": {
      "text/html": [
       "<div>\n",
       "<style scoped>\n",
       "    .dataframe tbody tr th:only-of-type {\n",
       "        vertical-align: middle;\n",
       "    }\n",
       "\n",
       "    .dataframe tbody tr th {\n",
       "        vertical-align: top;\n",
       "    }\n",
       "\n",
       "    .dataframe thead th {\n",
       "        text-align: right;\n",
       "    }\n",
       "</style>\n",
       "<table border=\"1\" class=\"dataframe\">\n",
       "  <thead>\n",
       "    <tr style=\"text-align: right;\">\n",
       "      <th></th>\n",
       "      <th>Cut-point</th>\n",
       "      <th>Sensitivity</th>\n",
       "      <th>Specificity</th>\n",
       "    </tr>\n",
       "  </thead>\n",
       "  <tbody>\n",
       "    <tr>\n",
       "      <th>0</th>\n",
       "      <td>0.25</td>\n",
       "      <td>0.659341</td>\n",
       "      <td>0.478469</td>\n",
       "    </tr>\n",
       "    <tr>\n",
       "      <th>1</th>\n",
       "      <td>0.50</td>\n",
       "      <td>0.109890</td>\n",
       "      <td>0.976077</td>\n",
       "    </tr>\n",
       "    <tr>\n",
       "      <th>2</th>\n",
       "      <td>0.60</td>\n",
       "      <td>0.065934</td>\n",
       "      <td>0.995215</td>\n",
       "    </tr>\n",
       "  </tbody>\n",
       "</table>\n",
       "</div>"
      ],
      "text/plain": [
       "   Cut-point  Sensitivity  Specificity\n",
       "0       0.25     0.659341     0.478469\n",
       "1       0.50     0.109890     0.976077\n",
       "2       0.60     0.065934     0.995215"
      ]
     },
     "execution_count": 30,
     "metadata": {},
     "output_type": "execute_result"
    }
   ],
   "source": [
    "# True labels and predicted labels are available as lists \n",
    "true_labels = y_test\n",
    "predicted_labels = lrn_s.predict(sm.add_constant(X_test_transform))\n",
    "\n",
    "# Define cut-point values\n",
    "thresholds = [0.25, 0.5, 0.6]\n",
    "results=[]\n",
    "\n",
    "for threshold in thresholds:\n",
    "    # Convert predicted labels based on the current threshold\n",
    "    predicted_labels_threshold = np.where(predicted_labels >= threshold, 1, 0)\n",
    "    \n",
    "    # Calculating confusion matrix for the current threshold\n",
    "    conf_matrix = confusion_matrix(true_labels, predicted_labels_threshold)\n",
    "    \n",
    "    # Extracting values from the confusion matrix\n",
    "    TN, FP, FN, TP = conf_matrix.ravel()\n",
    "    \n",
    "    # Calculate sensitivity (true positive rate)\n",
    "    sensitivity = TP / (TP + FN)\n",
    "    \n",
    "    # Calculate specificity (true negative rate)\n",
    "    specificity = TN / (TN + FP)\n",
    "    \n",
    "    # Print the results\n",
    "    results.append({'Cut-point': threshold,\n",
    "                    'Sensitivity': sensitivity,\n",
    "                    'Specificity': specificity})\n",
    "# Show the results    \n",
    "pd.DataFrame(results)"
   ]
  },
  {
   "cell_type": "markdown",
   "metadata": {},
   "source": [
    "**Calculation of Correct clasifications for the cut-points**\n",
    "\n",
    "In comparison to the original research, our results in 0.25 cut-point **increase**, but for 0.5 and 0.6 cut-points  **decrease**."
   ]
  },
  {
   "cell_type": "code",
   "execution_count": 31,
   "metadata": {},
   "outputs": [
    {
     "data": {
      "text/html": [
       "<div>\n",
       "<style scoped>\n",
       "    .dataframe tbody tr th:only-of-type {\n",
       "        vertical-align: middle;\n",
       "    }\n",
       "\n",
       "    .dataframe tbody tr th {\n",
       "        vertical-align: top;\n",
       "    }\n",
       "\n",
       "    .dataframe thead th {\n",
       "        text-align: right;\n",
       "    }\n",
       "</style>\n",
       "<table border=\"1\" class=\"dataframe\">\n",
       "  <thead>\n",
       "    <tr style=\"text-align: right;\">\n",
       "      <th></th>\n",
       "      <th>Cut-point</th>\n",
       "      <th>Proportion of Correct Classifications</th>\n",
       "    </tr>\n",
       "  </thead>\n",
       "  <tbody>\n",
       "    <tr>\n",
       "      <th>0</th>\n",
       "      <td>0.25</td>\n",
       "      <td>0.533333</td>\n",
       "    </tr>\n",
       "    <tr>\n",
       "      <th>1</th>\n",
       "      <td>0.50</td>\n",
       "      <td>0.713333</td>\n",
       "    </tr>\n",
       "    <tr>\n",
       "      <th>2</th>\n",
       "      <td>0.60</td>\n",
       "      <td>0.713333</td>\n",
       "    </tr>\n",
       "  </tbody>\n",
       "</table>\n",
       "</div>"
      ],
      "text/plain": [
       "   Cut-point  Proportion of Correct Classifications\n",
       "0       0.25                               0.533333\n",
       "1       0.50                               0.713333\n",
       "2       0.60                               0.713333"
      ]
     },
     "execution_count": 31,
     "metadata": {},
     "output_type": "execute_result"
    }
   ],
   "source": [
    "# Initialize an empty list to store the results\n",
    "results2 = []\n",
    "\n",
    "# Define cut_point values\n",
    "Cut_points = [0.25, 0.5, 0.6]\n",
    "\n",
    "# Loop through each threshold value\n",
    "for Cut_point in Cut_points:\n",
    "    # Convert predicted labels based on the current cut_point\n",
    "    predicted_labels_threshold = np.where(predicted_labels >= Cut_point, 1, 0)\n",
    "    \n",
    "    # Calculate the proportion of correct classifications for the current cut_point\n",
    "    correct_classification = (predicted_labels_threshold == y_test).mean()\n",
    "    \n",
    "    # Append the results to the list\n",
    "    results2.append({'Cut-point': Cut_point,\n",
    "                     'Proportion of Correct Classifications': correct_classification})\n",
    "\n",
    "# Display the results\n",
    "pd.DataFrame(results2)"
   ]
  },
  {
   "cell_type": "markdown",
   "metadata": {},
   "source": [
    "**Results**\n",
    "\n",
    "1. Our models' AIC results are lower than the original project's results. It means, our model is more powerful. But our model $R^{2}$ score is too low, unfortunately in the original project, the author did not calculate $R^{2}$ and we cannot compare the $R^{2}$ score of the two models.\n",
    "2. The author used standardized and non-standardized data for modeling purposes, but standardization does not significantly affect the result in either our or the original model."
   ]
  }
 ],
 "metadata": {
  "kernelspec": {
   "display_name": "Python 3",
   "language": "python",
   "name": "python3"
  },
  "language_info": {
   "codemirror_mode": {
    "name": "ipython",
    "version": 3
   },
   "file_extension": ".py",
   "mimetype": "text/x-python",
   "name": "python",
   "nbconvert_exporter": "python",
   "pygments_lexer": "ipython3",
   "version": "3.12.0"
  }
 },
 "nbformat": 4,
 "nbformat_minor": 2
}
